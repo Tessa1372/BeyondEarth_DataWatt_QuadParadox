{
 "cells": [
  {
   "cell_type": "markdown",
   "id": "527198c0",
   "metadata": {},
   "source": [
    "### DATA WATT  (ENERGY OPTIMIZATION SOLUTIONS)"
   ]
  },
  {
   "cell_type": "markdown",
   "id": "ba0ade94",
   "metadata": {},
   "source": [
    "## Objective : \n",
    "##### Our project aims to revolutionize energy management through the strategic implementation of time-series analysis, predictive modeling, and anomaly detection mechanisms. By deciphering nuanced patterns and trends in energy consumption, we seek to empower proactive decision-making and forecast future energy needs with precision. The vigilant eye of our anomaly detection mechanisms ensures swift intervention and resolution of potential issues. The integration of an intuitive mobile app aligns with our objective, providing users with real-time alerts and granting them control and transparency over their energy consumption. In essence, our project strives to redefine energy optimization, making it both comprehensive and user-centric."
   ]
  },
  {
   "cell_type": "markdown",
   "id": "584b061c",
   "metadata": {},
   "source": [
    "### 1) Anomaly Labels\n",
    "\n",
    "#### Historical data or labels indicating periods of anomalies, such as equipment malfunctions or inefficiencies.\n"
   ]
  },
  {
   "cell_type": "markdown",
   "id": "b8dc37b6",
   "metadata": {},
   "source": [
    "#### Dataset description:  https://www.kaggle.com/datasets/semanto117119/energy-train\n",
    "##### The dataset focuses on electricity consumption meter reading data. After employing various feature importance techniques such as random forest and exploratory data analysis (EDA), it was determined that key features for modeling are limited to meter reading and time data. This refined dataset, with a reduced set of important features, aims to simplify the model while enhancing accuracy and reliability, particularly in predicting the output variable, which is anomaly.\n",
    "\n"
   ]
  },
  {
   "cell_type": "code",
   "execution_count": 1,
   "id": "c296d426",
   "metadata": {},
   "outputs": [
    {
     "name": "stdout",
     "output_type": "stream",
     "text": [
      "Classification Report:\n",
      "               precision    recall  f1-score   support\n",
      "\n",
      "           0       0.96      1.00      0.98        23\n",
      "           1       0.00      0.00      0.00         1\n",
      "\n",
      "    accuracy                           0.96        24\n",
      "   macro avg       0.48      0.50      0.49        24\n",
      "weighted avg       0.92      0.96      0.94        24\n",
      "\n"
     ]
    },
    {
     "name": "stderr",
     "output_type": "stream",
     "text": [
      "C:\\Users\\tessa\\anaconda3\\Lib\\site-packages\\sklearn\\metrics\\_classification.py:1469: UndefinedMetricWarning: Precision and F-score are ill-defined and being set to 0.0 in labels with no predicted samples. Use `zero_division` parameter to control this behavior.\n",
      "  _warn_prf(average, modifier, msg_start, len(result))\n",
      "C:\\Users\\tessa\\anaconda3\\Lib\\site-packages\\sklearn\\metrics\\_classification.py:1469: UndefinedMetricWarning: Precision and F-score are ill-defined and being set to 0.0 in labels with no predicted samples. Use `zero_division` parameter to control this behavior.\n",
      "  _warn_prf(average, modifier, msg_start, len(result))\n",
      "C:\\Users\\tessa\\anaconda3\\Lib\\site-packages\\sklearn\\metrics\\_classification.py:1469: UndefinedMetricWarning: Precision and F-score are ill-defined and being set to 0.0 in labels with no predicted samples. Use `zero_division` parameter to control this behavior.\n",
      "  _warn_prf(average, modifier, msg_start, len(result))\n"
     ]
    },
    {
     "data": {
      "image/png": "[encoded data removed]",
      "text/plain": [
       "<Figure size 640x480 with 1 Axes>"
      ]
     },
     "metadata": {},
     "output_type": "display_data"
    }
   ],
   "source": [
    "import pandas as pd\n",
    "from sklearn.model_selection import train_test_split\n",
    "from sklearn.ensemble import RandomForestClassifier\n",
    "from sklearn.metrics import classification_report\n",
    "from sklearn.impute import SimpleImputer\n",
    "import numpy as np\n",
    "import matplotlib.pyplot as plt\n",
    "import winsound\n",
    "\n",
    "#Loading the dataset\n",
    "df = pd.read_csv(r'C:\\Users\\tessa\\Downloads\\train.csv')\n",
    "\n",
    "# Convert timestamp to numeric representation\n",
    "df['timestamp'] = pd.to_datetime(df['timestamp'])\n",
    "df['timestamp'] = df['timestamp'].astype('int64')\n",
    "\n",
    "# Feature engineering\n",
    "X = df[['timestamp', 'meter_reading']]\n",
    "y = df['anomaly']\n",
    "\n",
    "#Handling missing values\n",
    "imputer = SimpleImputer(strategy='mean')  \n",
    "X_imputed = imputer.fit_transform(X)\n",
    "\n",
    "#splitting the data into training and testing sets\n",
    "X_train, X_test, y_train, y_test = train_test_split(X_imputed, y, test_size=0.2, random_state=42)\n",
    "\n",
    "#simple Random Forest Classifier\n",
    "model = RandomForestClassifier(n_estimators=100, random_state=42)\n",
    "model.fit(X_train, y_train)\n",
    "\n",
    "# MakING predictions on the test set\n",
    "predictions = model.predict(X_test)\n",
    "\n",
    "print(\"Classification Report:\\n\", classification_report(y_test, predictions))\n",
    "\n",
    "# Detect spikes in meter_reading\n",
    "threshold = 0.8\n",
    "df['predicted_anomaly'] = np.where(model.predict_proba(X_imputed)[:, 1] > threshold, 1, 0)\n",
    "\n",
    "# Alert system - Buzzer\n",
    "def alert_buzzer():\n",
    "    winsound.Beep(1000, 2000)\n",
    "\n",
    "# Check for spikes and trigger the alert\n",
    "if df['predicted_anomaly'].any():\n",
    "    alert_buzzer()\n",
    "    \n",
    "    \n",
    "#Visualisation\n",
    "plt.plot(df['timestamp'], df['meter_reading'], label='Meter Reading')\n",
    "plt.scatter(df['timestamp'][df['predicted_anomaly'] == 1], df['meter_reading'][df['predicted_anomaly'] == 1], color='red', label='Anomaly')\n",
    "plt.xlabel('Timestamp')\n",
    "plt.ylabel('Meter Reading')\n",
    "plt.legend()\n",
    "plt.show()\n"
   ]
  },
  {
   "cell_type": "markdown",
   "id": "102ac2fa",
   "metadata": {},
   "source": [
    "##### Inference: No anomaly found in the above case"
   ]
  },
  {
   "cell_type": "code",
   "execution_count": 2,
   "id": "6f271e0f",
   "metadata": {},
   "outputs": [
    {
     "name": "stderr",
     "output_type": "stream",
     "text": [
      "C:\\Users\\tessa\\anaconda3\\Lib\\site-packages\\sklearn\\metrics\\_classification.py:1469: UndefinedMetricWarning: Precision and F-score are ill-defined and being set to 0.0 in labels with no predicted samples. Use `zero_division` parameter to control this behavior.\n",
      "  _warn_prf(average, modifier, msg_start, len(result))\n",
      "C:\\Users\\tessa\\anaconda3\\Lib\\site-packages\\sklearn\\metrics\\_classification.py:1469: UndefinedMetricWarning: Precision and F-score are ill-defined and being set to 0.0 in labels with no predicted samples. Use `zero_division` parameter to control this behavior.\n",
      "  _warn_prf(average, modifier, msg_start, len(result))\n",
      "C:\\Users\\tessa\\anaconda3\\Lib\\site-packages\\sklearn\\metrics\\_classification.py:1469: UndefinedMetricWarning: Precision and F-score are ill-defined and being set to 0.0 in labels with no predicted samples. Use `zero_division` parameter to control this behavior.\n",
      "  _warn_prf(average, modifier, msg_start, len(result))\n"
     ]
    },
    {
     "name": "stdout",
     "output_type": "stream",
     "text": [
      "Classification Report:\n",
      "               precision    recall  f1-score   support\n",
      "\n",
      "           0       0.86      1.00      0.92        12\n",
      "           1       0.00      0.00      0.00         2\n",
      "\n",
      "    accuracy                           0.86        14\n",
      "   macro avg       0.43      0.50      0.46        14\n",
      "weighted avg       0.73      0.86      0.79        14\n",
      "\n",
      "Anomaly detected! Alert sent to Electrician nearby\n",
      "Message Sent\n"
     ]
    },
    {
     "data": {
      "text/html": [
       "<script>alert('Message sent to electrician.')</script>"
      ],
      "text/plain": [
       "<IPython.core.display.HTML object>"
      ]
     },
     "metadata": {},
     "output_type": "display_data"
    },
    {
     "data": {
      "image/png": "[encoded data removed]",
      "text/plain": [
       "<Figure size 640x480 with 1 Axes>"
      ]
     },
     "metadata": {},
     "output_type": "display_data"
    }
   ],
   "source": [
    "#creating synthetic anomalies for demo\n",
    "import pandas as pd\n",
    "from sklearn.model_selection import train_test_split\n",
    "from sklearn.ensemble import RandomForestClassifier\n",
    "from sklearn.metrics import classification_report\n",
    "import numpy as np\n",
    "import matplotlib.pyplot as plt\n",
    "import winsound\n",
    "from IPython.display import display, HTML\n",
    "\n",
    "\n",
    "df = pd.read_csv(r'C:\\Users\\tessa\\Downloads\\train.csv')\n",
    "\n",
    "df['timestamp'] = pd.to_datetime(df['timestamp'], errors='coerce')\n",
    "df['timestamp'] = df['timestamp'].astype('int64') // 10**9  # Convert to seconds\n",
    "\n",
    "#Feature engineering\n",
    "X = df[['timestamp', 'meter_reading']]\n",
    "y = df['anomaly']\n",
    "\n",
    "#Data Cleaning\n",
    "df_clean = df.dropna(subset=['timestamp', 'meter_reading', 'anomaly'])\n",
    "X = df_clean[['timestamp', 'meter_reading']]\n",
    "y = df_clean['anomaly']\n",
    "\n",
    "#Spliting the data into training and testing sets\n",
    "X_train, X_test, y_train, y_test = train_test_split(X, y, test_size=0.2, random_state=42)\n",
    "\n",
    "#simple Random Forest Classifier\n",
    "model = RandomForestClassifier(n_estimators=100, random_state=42)\n",
    "model.fit(X_train, y_train)\n",
    "\n",
    "#Making predictions on the test set\n",
    "predictions = model.predict(X_test)\n",
    "\n",
    "#classification report for evaluation\n",
    "print(\"Classification Report:\\n\", classification_report(y_test, predictions))\n",
    "\n",
    "# Introducing synthetic anomalies\n",
    "anomaly_start1 = pd.to_datetime('2023-01-15 12:00:00')\n",
    "anomaly_end1 = pd.to_datetime('2023-01-15 14:00:00')\n",
    "df.loc[df['timestamp'].between(anomaly_start1.timestamp(), anomaly_end1.timestamp()), 'meter_reading'] += 500\n",
    "\n",
    "anomaly_start2 = pd.to_datetime('2023-02-20 08:00:00')\n",
    "anomaly_end2 = pd.to_datetime('2023-02-20 10:00:00')\n",
    "df.loc[df['timestamp'].between(anomaly_start2.timestamp(), anomaly_end2.timestamp()), 'meter_reading'] += 300\n",
    "\n",
    "# Detect spikes in meter_reading\n",
    "threshold = 0.5  #we can adjust threshold based on scenario\n",
    "predicted_anomaly = np.where(model.predict_proba(X)[:, 1] > threshold, 1, 0)\n",
    "\n",
    "df['predicted_anomaly'] = 0  \n",
    "df.loc[df_clean.index, 'predicted_anomaly'] = predicted_anomaly  # Assign to the cleaned DataFrame\n",
    "\n",
    "# Alert system - Buzzer\n",
    "def alert_buzzer():\n",
    "    winsound.Beep(1000, 2000)\n",
    "\n",
    "# Checking for fluctuations to trigger alert\n",
    "if df['predicted_anomaly'].any():\n",
    "    print(\"Anomaly detected! Alert sent to Electrician nearby\")\n",
    "    alert_buzzer()\n",
    "\n",
    "#sending email alert\n",
    "import smtplib\n",
    "from email.mime.text import MIMEText\n",
    "\n",
    "def send_email(subject, body, sender, recipients, app_password):\n",
    "    msg = MIMEText(body)\n",
    "    msg['Subject'] = subject\n",
    "    msg['From'] = sender\n",
    "    msg['To'] = recipients\n",
    "\n",
    "    # Setting up the SMTP server to send the email\n",
    "    with smtplib.SMTP_SSL('smtp.gmail.com', 465) as smtp_server:\n",
    "        smtp_server.login(sender, app_password)\n",
    "        smtp_server.sendmail(sender, recipients, msg.as_string())\n",
    "        print(\"Message Sent\")\n",
    "        \n",
    "\n",
    "subject = 'Alert: Anomaly Detected!'\n",
    "body = 'There is an anomaly in the meter reading at House no.13 in ABC colony. Please check'\n",
    "sender_email = 'tessasunny13@gmail.com'  \n",
    "recipient_email = 'janita.devassy@gmail.com'  \n",
    "app_password = 'phqv jdxw kmlg orpy'  # Replacing with the generated app password\n",
    "send_email(subject, body, sender_email, recipient_email, app_password)\n",
    "\n",
    "\n",
    "#JS alert\n",
    "display(HTML(\"<script>alert('Message sent to electrician.')</script>\"))\n",
    "\n",
    "\n",
    "#Visualisation\n",
    "plt.plot(df['timestamp'], df['meter_reading'], label='Meter Reading')\n",
    "plt.scatter(df['timestamp'][df['predicted_anomaly'] == 1], df['meter_reading'][df['predicted_anomaly'] == 1], color='red', label='Anomaly')\n",
    "plt.xlabel('Timestamp')\n",
    "plt.ylabel('Meter Reading')\n",
    "plt.legend()\n",
    "plt.show()"
   ]
  },
  {
   "cell_type": "markdown",
   "id": "92a55680",
   "metadata": {},
   "source": [
    "\n",
    "##### This code demonstrates the use of a Random Forest Classifier for anomaly detection in meter readings. The model is trained on historical data, and synthetic anomalies are introduced to showcase its ability to detect abnormal patterns. When anomalies are detected, the system triggers an alert through a buzzer and sends an email notification. The classification report evaluates the model's performance, and the visualization highlights anomalies in the meter readings. \n",
    "\n",
    "##### The project's future scope could include refining the anomaly detection model, incorporating additional features for improved accuracy, deploying the system in real-time scenarios, and integrating with advanced monitoring and alerting systems and deploying mobile applications. Additionally, the project could benefit from exploring different anomaly detection algorithms and scaling for larger datasets, making it a robust solution for proactive monitoring in smart energy systems."
   ]
  },
  {
   "cell_type": "markdown",
   "id": "1b070cc6",
   "metadata": {},
   "source": [
    "### 2) Electricity Usage Data:\n",
    "\n",
    "##### High-resolution time-series data of electricity consumption from smart meters installed in buildings or facilities."
   ]
  },
  {
   "cell_type": "markdown",
   "id": "7920850d",
   "metadata": {},
   "source": [
    "#### Dataset description: This household electricity consumption dataset contains 260,640 measurements gathered between January 2007 and June 2007 (6 months). It is a subset of a larger, original archive that contains 2,075,259 measurements gathered between December 2006 and November 2010 (47 months).\n",
    "#### Source: Household Power Consumption (data.world)"
   ]
  },
  {
   "cell_type": "markdown",
   "id": "99354f62",
   "metadata": {},
   "source": [
    "global_reactive_power: household global minute-averaged reactive power (in kilowatt) <br>\n"
   ]
  },
  {
   "cell_type": "code",
   "execution_count": 1,
   "id": "ef839150",
   "metadata": {},
   "outputs": [
    {
     "name": "stdout",
     "output_type": "stream",
     "text": [
      "Optimized Energy Consumption: [3.90798505e-14 1.24344979e-14]\n"
     ]
    }
   ],
   "source": [
    "import pandas as pd\n",
    "from scipy.optimize import minimize\n",
    "import numpy as np\n",
    "data = pd.read_csv(r'C:\\Users\\tessa\\Downloads\\household_power_consumption_household_power_consumption.csv') \n",
    "\n",
    "\n",
    "# Data Preprocessing\n",
    "# Drop missing values\n",
    "data.dropna(inplace=True)\n",
    "\n",
    "#optimization based on 'Global_active_power' and 'Global_reactive_power'\n",
    "X = data[['Global_active_power', 'Global_reactive_power']].values\n",
    "\n",
    "#function representing the cost of energy consumption\n",
    "def energy_cost(x):\n",
    "    # quadratic cost function\n",
    "    return np.sum(x**2)\n",
    "\n",
    "#constraints on energy consumption\n",
    "constraints = ({'type': 'ineq', 'fun': lambda x: x[0]},  # Non-negative constraint for Global_active_power\n",
    "               {'type': 'ineq', 'fun': lambda x: x[1]})   # Non-negative constraint for Global_reactive_power\n",
    "\n",
    "#bounds on energy consumption\n",
    "bounds = ((0, None), (0, None))  # Non-negative values for both Global_active_power and Global_reactive_power\n",
    "\n",
    "# Initial guess for optimization variables\n",
    "initial_guess = [10, 5]\n",
    "\n",
    "# Performing the optimization\n",
    "result = minimize(energy_cost, initial_guess, method='SLSQP', bounds=bounds, constraints=constraints)\n",
    "\n",
    "# Extracting optimized values\n",
    "optimized_values = result.x\n",
    "print(\"Optimized Energy Consumption:\", optimized_values)\n"
   ]
  },
  {
   "cell_type": "markdown",
   "id": "32f029b4",
   "metadata": {},
   "source": [
    "\n",
    "   - The `energy_cost` function represents the cost of energy consumption. In this simplified example, it uses a quadratic cost function. The actual cost function should reflect the specific goals and constraints of your optimization problem.\n",
    "\n",
    "   - The code defines constraints on energy consumption to ensure non-negativity. In this example, constraints are set to be non-negative for both 'Global_active_power' and 'Global_reactive_power'.\n",
    "   - Bounds are specified to restrict optimization variables to non-negative values.\n",
    "\n",
    "   - The `minimize` function from `scipy.optimize` is used to perform the optimization. It minimizes the cost function under the specified constraints and bounds.\n",
    "   - The optimization method chosen is Sequential Least Squares Quadratic Programming (`SLSQP`), but you can choose other methods based on the nature of your optimization problem.\n",
    "\n",
    "\n",
    "   - The optimization process starts with an initial guess for the values of the optimization variables. In this case, it's [10, 5], which can be modified upon requirement.\n",
    "\n",
    "\n",
    "##### The result [3.90798505e-14, 1.24344979e-14] from the optimization algorithm, suggests that the algorithm found a set of values for the decision variables (Global_active_power and Global_reactive_power) that minimizes the objective function (energy_cost) and satisfies the defined constraints. In this specific case, the values are extremely close to zero, indicating that the algorithm essentially found a solution where both Global_active_power and Global_reactive_power are minimized.\n",
    "\n",
    "##### In real-life terms, this could mean that the optimized solution suggests a scenario where the energy consumption is minimized, potentially achieving cost savings or environmental benefits. \n"
   ]
  }
 ],
 "metadata": {
  "kernelspec": {
   "display_name": "Python 3 (ipykernel)",
   "language": "python",
   "name": "python3"
  },
  "language_info": {
   "codemirror_mode": {
    "name": "ipython",
    "version": 3
   },
   "file_extension": ".py",
   "mimetype": "text/x-python",
   "name": "python",
   "nbconvert_exporter": "python",
   "pygments_lexer": "ipython3",
   "version": "3.11.4"
  }
 },
 "nbformat": 4,
 "nbformat_minor": 5
}
